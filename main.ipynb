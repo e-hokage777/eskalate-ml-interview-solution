{
 "cells": [
  {
   "cell_type": "code",
   "execution_count": 64,
   "id": "d65f1be9",
   "metadata": {},
   "outputs": [],
   "source": [
    "import numpy as numpy\n",
    "import pandas as pd\n",
    "import matplotlib.pyplot as plt\n",
    "import nltk\n",
    "from pathlib import Path\n",
    "import os\n",
    "from sklearn.model_selection import train_test_split\n",
    "import random\n",
    "from nltk.corpus import stopwords\n",
    "from nltk.stem import WordNetLemmatizer\n",
    "from nltk.tokenize import word_tokenize"
   ]
  },
  {
   "cell_type": "code",
   "execution_count": 8,
   "id": "483b39d5",
   "metadata": {},
   "outputs": [
    {
     "name": "stderr",
     "output_type": "stream",
     "text": [
      "[nltk_data] Downloading package reuters to\n",
      "[nltk_data]     C:\\Users\\E14\\AppData\\Roaming\\nltk_data...\n"
     ]
    },
    {
     "data": {
      "text/plain": [
       "True"
      ]
     },
     "execution_count": 8,
     "metadata": {},
     "output_type": "execute_result"
    }
   ],
   "source": [
    "## downloading reuters dataset\n",
    "nltk.download(\"reuters\")"
   ]
  },
  {
   "cell_type": "code",
   "execution_count": 9,
   "id": "9f6ba817",
   "metadata": {},
   "outputs": [],
   "source": [
    "## importing the reuters dataset\n",
    "from nltk.corpus import reuters"
   ]
  },
  {
   "cell_type": "code",
   "execution_count": 46,
   "id": "76e126be",
   "metadata": {},
   "outputs": [],
   "source": [
    "## paths\n",
    "SUMMARIES_PATH = Path(\"./summaries\")"
   ]
  },
  {
   "cell_type": "code",
   "execution_count": 47,
   "id": "eb888653",
   "metadata": {},
   "outputs": [],
   "source": [
    "## creating necessary directories if they do not exist\n",
    "if not os.path.exists(SUMMARIES_PATH):\n",
    "    os.mkdir(SUMMARIES_PATH)"
   ]
  },
  {
   "cell_type": "markdown",
   "id": "01f6a605",
   "metadata": {},
   "source": [
    "# Dataset EDA"
   ]
  },
  {
   "cell_type": "code",
   "execution_count": null,
   "id": "714dd39c",
   "metadata": {},
   "outputs": [
    {
     "name": "stdout",
     "output_type": "stream",
     "text": [
      "Reuters corpus has 10788 news articles\n",
      "Reuters corpus has 90 categories\n"
     ]
    }
   ],
   "source": [
    "print(f\"Reuters corpus has {len(reuters.fileids())} news articles\")\n",
    "print(f\"Reuters corpus has {len(reuters.categories())} categories\")"
   ]
  },
  {
   "cell_type": "code",
   "execution_count": 33,
   "id": "517ff71b",
   "metadata": {},
   "outputs": [
    {
     "data": {
      "text/html": [
       "<div>\n",
       "<style scoped>\n",
       "    .dataframe tbody tr th:only-of-type {\n",
       "        vertical-align: middle;\n",
       "    }\n",
       "\n",
       "    .dataframe tbody tr th {\n",
       "        vertical-align: top;\n",
       "    }\n",
       "\n",
       "    .dataframe thead th {\n",
       "        text-align: right;\n",
       "    }\n",
       "</style>\n",
       "<table border=\"1\" class=\"dataframe\">\n",
       "  <thead>\n",
       "    <tr style=\"text-align: right;\">\n",
       "      <th></th>\n",
       "      <th>category</th>\n",
       "      <th>count</th>\n",
       "    </tr>\n",
       "  </thead>\n",
       "  <tbody>\n",
       "    <tr>\n",
       "      <th>0</th>\n",
       "      <td>acq</td>\n",
       "      <td>2369</td>\n",
       "    </tr>\n",
       "    <tr>\n",
       "      <th>1</th>\n",
       "      <td>alum</td>\n",
       "      <td>58</td>\n",
       "    </tr>\n",
       "    <tr>\n",
       "      <th>2</th>\n",
       "      <td>barley</td>\n",
       "      <td>51</td>\n",
       "    </tr>\n",
       "    <tr>\n",
       "      <th>3</th>\n",
       "      <td>bop</td>\n",
       "      <td>105</td>\n",
       "    </tr>\n",
       "    <tr>\n",
       "      <th>4</th>\n",
       "      <td>carcass</td>\n",
       "      <td>68</td>\n",
       "    </tr>\n",
       "    <tr>\n",
       "      <th>...</th>\n",
       "      <td>...</td>\n",
       "      <td>...</td>\n",
       "    </tr>\n",
       "    <tr>\n",
       "      <th>85</th>\n",
       "      <td>veg-oil</td>\n",
       "      <td>124</td>\n",
       "    </tr>\n",
       "    <tr>\n",
       "      <th>86</th>\n",
       "      <td>wheat</td>\n",
       "      <td>283</td>\n",
       "    </tr>\n",
       "    <tr>\n",
       "      <th>87</th>\n",
       "      <td>wpi</td>\n",
       "      <td>29</td>\n",
       "    </tr>\n",
       "    <tr>\n",
       "      <th>88</th>\n",
       "      <td>yen</td>\n",
       "      <td>59</td>\n",
       "    </tr>\n",
       "    <tr>\n",
       "      <th>89</th>\n",
       "      <td>zinc</td>\n",
       "      <td>34</td>\n",
       "    </tr>\n",
       "  </tbody>\n",
       "</table>\n",
       "<p>90 rows × 2 columns</p>\n",
       "</div>"
      ],
      "text/plain": [
       "   category   count\n",
       "0       acq    2369\n",
       "1      alum      58\n",
       "2    barley      51\n",
       "3       bop     105\n",
       "4   carcass      68\n",
       "..      ...     ...\n",
       "85  veg-oil     124\n",
       "86    wheat     283\n",
       "87      wpi      29\n",
       "88      yen      59\n",
       "89     zinc      34\n",
       "\n",
       "[90 rows x 2 columns]"
      ]
     },
     "execution_count": 33,
     "metadata": {},
     "output_type": "execute_result"
    }
   ],
   "source": [
    "## getting documents in each\n",
    "category_count_map = list()\n",
    "for category in reuters.categories():\n",
    "    docs_in_category = reuters.fileids(category)\n",
    "    docs_count = len(docs_in_category)\n",
    "    # category_count_map[category] = docs_count\n",
    "    category_count_map.append((category, docs_count))\n",
    "\n",
    "cat_doc_count_df=pd.DataFrame(category_count_map, columns=(\"category\", \" count\"))\n",
    "cat_doc_count_df"
   ]
  },
  {
   "cell_type": "code",
   "execution_count": 48,
   "id": "9e91611b",
   "metadata": {},
   "outputs": [],
   "source": [
    "## saving the category summary\n",
    "cat_doc_count_df.to_csv(SUMMARIES_PATH/\"category_count.csv\", index=False)"
   ]
  },
  {
   "cell_type": "code",
   "execution_count": 60,
   "id": "6738afda",
   "metadata": {},
   "outputs": [],
   "source": [
    "def get_reuters_corpus_samples(sample_fraction=0.1, random_state=42):\n",
    "    random.seed(random_state)        # for reproducibility\n",
    "\n",
    "    # Collect samples while preserving category ratios\n",
    "    data = []\n",
    "    for category in reuters.categories():\n",
    "        fileids = reuters.fileids(category)\n",
    "        sample_size = max(1, int(len(fileids) * sample_fraction))\n",
    "        sampled_ids = random.sample(fileids, sample_size)\n",
    "        \n",
    "        for fid in sampled_ids:\n",
    "            data.append((category, fid))\n",
    "\n",
    "    # Create DataFrame\n",
    "    df = pd.DataFrame(data, columns=[\"category\", \"fileid\"])\n",
    "\n",
    "    return df"
   ]
  },
  {
   "cell_type": "code",
   "execution_count": 62,
   "id": "97437c88",
   "metadata": {},
   "outputs": [],
   "source": [
    "df = get_reuters_corpus_samples()"
   ]
  },
  {
   "cell_type": "code",
   "execution_count": 63,
   "id": "1d5a5d16",
   "metadata": {},
   "outputs": [
    {
     "data": {
      "text/html": [
       "<div>\n",
       "<style scoped>\n",
       "    .dataframe tbody tr th:only-of-type {\n",
       "        vertical-align: middle;\n",
       "    }\n",
       "\n",
       "    .dataframe tbody tr th {\n",
       "        vertical-align: top;\n",
       "    }\n",
       "\n",
       "    .dataframe thead th {\n",
       "        text-align: right;\n",
       "    }\n",
       "</style>\n",
       "<table border=\"1\" class=\"dataframe\">\n",
       "  <thead>\n",
       "    <tr style=\"text-align: right;\">\n",
       "      <th></th>\n",
       "      <th>category</th>\n",
       "      <th>fileid</th>\n",
       "    </tr>\n",
       "  </thead>\n",
       "  <tbody>\n",
       "    <tr>\n",
       "      <th>0</th>\n",
       "      <td>acq</td>\n",
       "      <td>test/19297</td>\n",
       "    </tr>\n",
       "    <tr>\n",
       "      <th>1</th>\n",
       "      <td>acq</td>\n",
       "      <td>test/15995</td>\n",
       "    </tr>\n",
       "    <tr>\n",
       "      <th>2</th>\n",
       "      <td>acq</td>\n",
       "      <td>training/13085</td>\n",
       "    </tr>\n",
       "    <tr>\n",
       "      <th>3</th>\n",
       "      <td>acq</td>\n",
       "      <td>training/12053</td>\n",
       "    </tr>\n",
       "    <tr>\n",
       "      <th>4</th>\n",
       "      <td>acq</td>\n",
       "      <td>training/11477</td>\n",
       "    </tr>\n",
       "    <tr>\n",
       "      <th>...</th>\n",
       "      <td>...</td>\n",
       "      <td>...</td>\n",
       "    </tr>\n",
       "    <tr>\n",
       "      <th>1308</th>\n",
       "      <td>yen</td>\n",
       "      <td>training/9946</td>\n",
       "    </tr>\n",
       "    <tr>\n",
       "      <th>1309</th>\n",
       "      <td>yen</td>\n",
       "      <td>training/872</td>\n",
       "    </tr>\n",
       "    <tr>\n",
       "      <th>1310</th>\n",
       "      <td>zinc</td>\n",
       "      <td>training/7842</td>\n",
       "    </tr>\n",
       "    <tr>\n",
       "      <th>1311</th>\n",
       "      <td>zinc</td>\n",
       "      <td>training/14572</td>\n",
       "    </tr>\n",
       "    <tr>\n",
       "      <th>1312</th>\n",
       "      <td>zinc</td>\n",
       "      <td>training/3163</td>\n",
       "    </tr>\n",
       "  </tbody>\n",
       "</table>\n",
       "<p>1313 rows × 2 columns</p>\n",
       "</div>"
      ],
      "text/plain": [
       "     category          fileid\n",
       "0         acq      test/19297\n",
       "1         acq      test/15995\n",
       "2         acq  training/13085\n",
       "3         acq  training/12053\n",
       "4         acq  training/11477\n",
       "...       ...             ...\n",
       "1308      yen   training/9946\n",
       "1309      yen    training/872\n",
       "1310     zinc   training/7842\n",
       "1311     zinc  training/14572\n",
       "1312     zinc   training/3163\n",
       "\n",
       "[1313 rows x 2 columns]"
      ]
     },
     "execution_count": 63,
     "metadata": {},
     "output_type": "execute_result"
    }
   ],
   "source": [
    "df"
   ]
  },
  {
   "cell_type": "code",
   "execution_count": null,
   "id": "c7a0607a",
   "metadata": {},
   "outputs": [
    {
     "name": "stderr",
     "output_type": "stream",
     "text": [
      "[nltk_data] Downloading package stopwords to\n",
      "[nltk_data]     C:\\Users\\E14\\AppData\\Roaming\\nltk_data...\n",
      "[nltk_data]   Package stopwords is already up-to-date!\n",
      "[nltk_data] Downloading package punkt to\n",
      "[nltk_data]     C:\\Users\\E14\\AppData\\Roaming\\nltk_data...\n",
      "[nltk_data]   Package punkt is already up-to-date!\n",
      "[nltk_data] Downloading package punkt_tab to\n",
      "[nltk_data]     C:\\Users\\E14\\AppData\\Roaming\\nltk_data...\n",
      "[nltk_data]   Unzipping tokenizers\\punkt_tab.zip.\n",
      "[nltk_data] Downloading package wordnet to\n",
      "[nltk_data]     C:\\Users\\E14\\AppData\\Roaming\\nltk_data...\n",
      "[nltk_data]   Package wordnet is already up-to-date!\n",
      "[nltk_data] Downloading package omw-1.4 to\n",
      "[nltk_data]     C:\\Users\\E14\\AppData\\Roaming\\nltk_data...\n",
      "[nltk_data]   Package omw-1.4 is already up-to-date!\n"
     ]
    },
    {
     "name": "stdout",
     "output_type": "stream",
     "text": [
      "['striped', 'bat', 'hanging', 'foot', 'best']\n"
     ]
    }
   ],
   "source": [
    "## prorocessing text\n",
    "nltk.download(\"stopwords\") ## downloading stopwords if not already there\n",
    "nltk.download(\"punkt\")\n",
    "nltk.download('punkt_tab')\n",
    "nltk.download(\"wordnet\")\n",
    "nltk.download(\"omw-1.4\")\n",
    "\n",
    "\n",
    "stop_words = set(stopwords.words(\"english\"))\n",
    "lemmatizer = WordNetLemmatizer()\n",
    "\n",
    "def preprocess_text(text):\n",
    "    # Tokenize\n",
    "    tokens = word_tokenize(text)\n",
    "    \n",
    "    # Lowercase, remove stopwords, and lemmatize\n",
    "    processed = [\n",
    "        lemmatizer.lemmatize(token.lower()) \n",
    "        for token in tokens \n",
    "        if token.isalpha() and token.lower() not in stop_words\n",
    "    ]\n",
    "    return processed"
   ]
  },
  {
   "cell_type": "code",
   "execution_count": null,
   "id": "28761d73",
   "metadata": {},
   "outputs": [],
   "source": [
    "def get_tokens(x):\n",
    "    fileid = x[\"fileid\"]\n",
    "    doc_raw = reuters.raw(fileid)\n",
    "    return preprocess_text(doc_raw)\n",
    "\n",
    "df[\"text_tokenized\"] = df.apply(get_tokens, axis=1)"
   ]
  },
  {
   "cell_type": "code",
   "execution_count": 87,
   "id": "05cc1065",
   "metadata": {},
   "outputs": [
    {
     "data": {
      "image/png": "[encoded data removed]",
      "text/plain": [
       "<Figure size 640x480 with 1 Axes>"
      ]
     },
     "metadata": {},
     "output_type": "display_data"
    }
   ],
   "source": [
    "## showing distribution of documents lenghts\n",
    "document_lengths = df[\"text_tokenized\"].apply(len)\n",
    "\n",
    "document_lengths.plot.hist()\n",
    "plt.show()"
   ]
  }
 ],
 "metadata": {
  "kernelspec": {
   "display_name": "eskalate-ml-interview-solution-5vnpMIHX-py3.13",
   "language": "python",
   "name": "python3"
  },
  "language_info": {
   "codemirror_mode": {
    "name": "ipython",
    "version": 3
   },
   "file_extension": ".py",
   "mimetype": "text/x-python",
   "name": "python",
   "nbconvert_exporter": "python",
   "pygments_lexer": "ipython3",
   "version": "3.13.2"
  }
 },
 "nbformat": 4,
 "nbformat_minor": 5
}
